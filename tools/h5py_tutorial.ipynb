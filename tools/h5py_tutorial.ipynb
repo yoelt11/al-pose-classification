{
 "cells": [
  {
   "cell_type": "code",
   "execution_count": 1,
   "id": "0f162400-a006-48e7-a489-96e9fabc205b",
   "metadata": {},
   "outputs": [],
   "source": [
    "import h5py\n",
    "import numpy as np"
   ]
  },
  {
   "cell_type": "code",
   "execution_count": 2,
   "id": "392efa42-cd00-4dee-afe9-2962e58105fb",
   "metadata": {},
   "outputs": [],
   "source": [
    "# -- create and open dataset\n",
    "file = h5py.File('data.h5', 'w')\n",
    "# -- create a new group on previous file\n",
    "data =  file.create_group('dataset') # contains actual dataset\n",
    "about = file.create_group('about') # contains information about dataset\n",
    "# -- add entries to about\n",
    "about[\"frame_count\"] = 100\n",
    "about[\"fps\"] = 30\n",
    "about[\"total_frames\"] = 500\n",
    "about[\"width\"] = 640\n",
    "about[\"height\"] = 480"
   ]
  },
  {
   "cell_type": "code",
   "execution_count": 3,
   "id": "3f1ef5ae-9c06-4b41-a304-a384bb6cf302",
   "metadata": {},
   "outputs": [
    {
     "data": {
      "text/plain": [
       "100"
      ]
     },
     "execution_count": 3,
     "metadata": {},
     "output_type": "execute_result"
    }
   ],
   "source": [
    "# -- these values are accessed as follows\n",
    "about['frame_count'][()]"
   ]
  },
  {
   "cell_type": "code",
   "execution_count": 4,
   "id": "4ff1d277-7d84-4674-9cce-b13ea78dbf7d",
   "metadata": {},
   "outputs": [],
   "source": [
    "# -- add numpy data (the example below is a single data entry)\n",
    "img_data = np.random.rand(1,20,480,360,3).astype(dtype=np.uint8) # dummy image data consisting of 20 frames\n",
    "keypoint_data = np.random.rand(1,20,17,3).astype(np.float64) # dummy kp data consiting of 20 frame\n",
    "file_name =  \"file_1.txt\""
   ]
  },
  {
   "cell_type": "code",
   "execution_count": 5,
   "id": "78dd037d-fe90-4f80-b0ae-a20324f36b14",
   "metadata": {},
   "outputs": [
    {
     "data": {
      "text/plain": [
       "<HDF5 dataset \"file_name\": shape (1,), type \"|O\">"
      ]
     },
     "execution_count": 5,
     "metadata": {},
     "output_type": "execute_result"
    }
   ],
   "source": [
    "# -- add to data group\n",
    "data.create_dataset('img_data', data=img_data, chunks=True, maxshape=(None, 20, 480, 360, 3))\n",
    "data.create_dataset('keypoint_data', data=keypoint_data, chunks=True, maxshape=(None, 20, 17, 3))\n",
    "data.create_dataset('file_name', data=[file_name], chunks=True, maxshape=(None,))"
   ]
  },
  {
   "cell_type": "code",
   "execution_count": 6,
   "id": "091e2746-2d32-49c4-95b0-0180f0d90cb3",
   "metadata": {},
   "outputs": [
    {
     "name": "stdout",
     "output_type": "stream",
     "text": [
      "(1, 20, 480, 360, 3)\n",
      "(1, 20, 17, 3)\n"
     ]
    },
    {
     "data": {
      "text/plain": [
       "array([b'file_1.txt'], dtype=object)"
      ]
     },
     "execution_count": 6,
     "metadata": {},
     "output_type": "execute_result"
    }
   ],
   "source": [
    "# -- print data \n",
    "print(data['img_data'].shape)\n",
    "print(data['keypoint_data'].shape)\n",
    "data['file_name'][()]"
   ]
  },
  {
   "cell_type": "code",
   "execution_count": 7,
   "id": "27564001-274b-4d4a-8725-a731d8b17aa7",
   "metadata": {},
   "outputs": [],
   "source": [
    "# -- append new entry to dataset\n",
    "data['img_data'].resize(data['img_data'].shape[0] + 1, axis=0)\n",
    "data['img_data'][-1] = img_data\n",
    "\n",
    "data['keypoint_data'].resize(data['keypoint_data'].shape[0] + 1, axis=0)\n",
    "data['keypoint_data'][-1] = keypoint_data\n",
    "\n",
    "data['file_name'].resize(data['file_name'].shape[0] + 1, axis=0)\n",
    "data['file_name'][-1] = file_name"
   ]
  },
  {
   "cell_type": "code",
   "execution_count": 8,
   "id": "ac2fbd36-61be-45c0-9a58-7cb6384ad8a2",
   "metadata": {},
   "outputs": [
    {
     "name": "stdout",
     "output_type": "stream",
     "text": [
      "(2, 20, 480, 360, 3)\n",
      "(2, 20, 17, 3)\n"
     ]
    },
    {
     "data": {
      "text/plain": [
       "b'file_1.txt'"
      ]
     },
     "execution_count": 8,
     "metadata": {},
     "output_type": "execute_result"
    }
   ],
   "source": [
    "# -- print data\n",
    "print(data['img_data'].shape)\n",
    "print(data['keypoint_data'].shape)\n",
    "data['file_name'][0] # -- dataset is index like this"
   ]
  },
  {
   "cell_type": "code",
   "execution_count": 9,
   "id": "e4cef0ce-561b-42c7-a9ec-7f27564e3e80",
   "metadata": {},
   "outputs": [],
   "source": [
    "# -- save dataset by calling close\n",
    "file.close()"
   ]
  },
  {
   "cell_type": "code",
   "execution_count": 10,
   "id": "02206399-fe02-4f7c-b7b8-61e1a558b839",
   "metadata": {},
   "outputs": [],
   "source": [
    "# -- open file \n",
    "file = h5py.File('data.h5', 'r+')\n",
    "data = file['dataset']\n",
    "about = file['about']"
   ]
  }
 ],
 "metadata": {
  "kernelspec": {
   "display_name": "Python 3 (ipykernel)",
   "language": "python",
   "name": "python3"
  },
  "language_info": {
   "codemirror_mode": {
    "name": "ipython",
    "version": 3
   },
   "file_extension": ".py",
   "mimetype": "text/x-python",
   "name": "python",
   "nbconvert_exporter": "python",
   "pygments_lexer": "ipython3",
   "version": "3.10.11+"
  }
 },
 "nbformat": 4,
 "nbformat_minor": 5
}
